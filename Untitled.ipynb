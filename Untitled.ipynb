{
 "cells": [
  {
   "cell_type": "code",
   "execution_count": 1,
   "metadata": {},
   "outputs": [
    {
     "name": "stdout",
     "output_type": "stream",
     "text": [
      "43\n",
      "109.4\n"
     ]
    }
   ],
   "source": [
    "celsius = eval(input())\n",
    "fahrenheit = (9 / 5) * celsius + 32\n",
    "print(fahrenheit)"
   ]
  },
  {
   "cell_type": "code",
   "execution_count": 2,
   "metadata": {},
   "outputs": [
    {
     "name": "stdout",
     "output_type": "stream",
     "text": [
      "半径5.5\n",
      "高12\n",
      "面积 95.03317615 体积 1140.3981138\n"
     ]
    }
   ],
   "source": [
    "radius = eval(input('半径'))\n",
    "length = eval(input('高'))\n",
    "π = 3.1415926\n",
    "area = radius * radius * π\n",
    "volume = area * length\n",
    "print('面积',area,'体积',volume)"
   ]
  },
  {
   "cell_type": "code",
   "execution_count": 4,
   "metadata": {},
   "outputs": [
    {
     "name": "stdout",
     "output_type": "stream",
     "text": [
      "英尺16.5\n",
      "5.0325\n"
     ]
    }
   ],
   "source": [
    "foot = eval(input('英尺'))\n",
    "rice = 0.305 * foot\n",
    "print(rice)"
   ]
  },
  {
   "cell_type": "code",
   "execution_count": 5,
   "metadata": {},
   "outputs": [
    {
     "name": "stdout",
     "output_type": "stream",
     "text": [
      "55.5\n",
      "3.5\n",
      "10.5\n",
      "1625484.0 焦耳\n"
     ]
    }
   ],
   "source": [
    "shui = eval(input())\n",
    "chushiwendu = eval(input())\n",
    "zuizhongwendu = eval(input())\n",
    "M = shui\n",
    "Q = M * (zuizhongwendu - chushiwendu) * 4184\n",
    "print(Q,'焦耳')"
   ]
  },
  {
   "cell_type": "code",
   "execution_count": 8,
   "metadata": {},
   "outputs": [
    {
     "name": "stdout",
     "output_type": "stream",
     "text": [
      "1000\n",
      "3.5\n",
      "2.916666666666667\n"
     ]
    }
   ],
   "source": [
    "chae = eval(input())\n",
    "nililv = eval(input())\n",
    "interest = chae * (nililv / 1200)\n",
    "print(interest)"
   ]
  },
  {
   "cell_type": "code",
   "execution_count": 7,
   "metadata": {},
   "outputs": [
    {
     "name": "stdout",
     "output_type": "stream",
     "text": [
      "5.5\n",
      "50.9\n",
      "4.5\n",
      "10.0889\n"
     ]
    }
   ],
   "source": [
    "kaishisudu = eval(input())\n",
    "mosudu = eval(input())\n",
    "time = eval(input())\n",
    "a = (mosudu -kaishisudu) / time\n",
    "print(round(a,4))"
   ]
  },
  {
   "cell_type": "code",
   "execution_count": null,
   "metadata": {},
   "outputs": [],
   "source": []
  }
 ],
 "metadata": {
  "kernelspec": {
   "display_name": "Python 3",
   "language": "python",
   "name": "python3"
  },
  "language_info": {
   "codemirror_mode": {
    "name": "ipython",
    "version": 3
   },
   "file_extension": ".py",
   "mimetype": "text/x-python",
   "name": "python",
   "nbconvert_exporter": "python",
   "pygments_lexer": "ipython3",
   "version": "3.7.3"
  }
 },
 "nbformat": 4,
 "nbformat_minor": 2
}
