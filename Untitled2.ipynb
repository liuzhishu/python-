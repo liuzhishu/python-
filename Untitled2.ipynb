{
 "cells": [
  {
   "cell_type": "code",
   "execution_count": 2,
   "metadata": {},
   "outputs": [
    {
     "name": "stdout",
     "output_type": "stream",
     "text": [
      "输入方程abc的值1,3,1\n",
      "-0.3819660112501051 -2.618033988749895\n"
     ]
    }
   ],
   "source": [
    "a,b,c=eval(input('输入方程abc的值'))\n",
    "r1=(-b+(b**2-4*a*c)**0.5)/2*a\n",
    "r2=(-b-(b**2-4*a*c)**0.5)/2*a\n",
    "x = (b**2)-(4*a*c)\n",
    "y = 0\n",
    "if x>y: \n",
    "    print(r1,r2) \n",
    "elif x==y:\n",
    "    print(r1)\n",
    "else:\n",
    "    print('the equation has no real roots')"
   ]
  },
  {
   "cell_type": "code",
   "execution_count": 4,
   "metadata": {},
   "outputs": [
    {
     "name": "stdout",
     "output_type": "stream",
     "text": [
      "85 99\n"
     ]
    }
   ],
   "source": [
    "import random\n",
    "a = random.randint(0,100)\n",
    "b = random.randint(0,100)\n",
    "print(a,b)"
   ]
  },
  {
   "cell_type": "code",
   "execution_count": 5,
   "metadata": {},
   "outputs": [
    {
     "name": "stdout",
     "output_type": "stream",
     "text": [
      "输入这a,b的和184\n",
      "TURE\n"
     ]
    }
   ],
   "source": [
    "x = eval(input('输入这a,b的和'))\n",
    "if x ==a+b:\n",
    "    print('TURE')\n",
    "else:\n",
    "    print('FLASH')"
   ]
  },
  {
   "cell_type": "code",
   "execution_count": 10,
   "metadata": {},
   "outputs": [
    {
     "name": "stdout",
     "output_type": "stream",
     "text": [
      "today,1\n",
      "future day3\n",
      "today is monday and the future day is thurday\n"
     ]
    }
   ],
   "source": [
    "a=eval(input('today,'))\n",
    "if a == 0:\n",
    "    b=('sunday')\n",
    "elif a == 1:\n",
    "    b=('monday')\n",
    "elif a == 2:\n",
    "    b=('tues')\n",
    "elif a == 3:\n",
    "    b=('wedne')\n",
    "elif a == 4:\n",
    "    b=('thur')\n",
    "elif a == 5:\n",
    "    b=('fari')\n",
    "elif a == 6:\n",
    "    b=('satr')\n",
    "c=eval(input('future day'))\n",
    "if ((c+a)%7)==0:\n",
    "    print('today is',b,'and the future day issunday')\n",
    "elif ((c+a)%7)==1:\n",
    "    print('today is',b,'and the future day ismon')\n",
    "elif ((c+a)%7)==2:\n",
    "    print('today is',b,'and the future day istues')\n",
    "elif ((c+a)%7)==3:\n",
    "    print('today is',b,'and the future day iswedne')\n",
    "elif ((c+a)%7)==4:\n",
    "    print('today is',b,'and the future day is thurday')\n",
    "elif ((c+a)%7)==5:\n",
    "    print('today is',b,'and the future day isfari')\n",
    "elif ((c+a)%7)==6:\n",
    "    print('today is',b,'and the future day isstar')"
   ]
  },
  {
   "cell_type": "code",
   "execution_count": 13,
   "metadata": {},
   "outputs": [
    {
     "name": "stdout",
     "output_type": "stream",
     "text": [
      "三个数9,0,1\n",
      "[0, 1, 9]\n"
     ]
    }
   ],
   "source": [
    "a,b,c=eval(input('三个数'))\n",
    "list=[a,b,c]\n",
    "list.sort()\n",
    "print(list)"
   ]
  },
  {
   "cell_type": "code",
   "execution_count": 14,
   "metadata": {},
   "outputs": [
    {
     "name": "stdout",
     "output_type": "stream",
     "text": [
      "money and price50,24.59\n",
      "money and price25,11.99\n",
      "package 2 has the better price\n"
     ]
    }
   ],
   "source": [
    "a,b=eval(input('money and price'))\n",
    "c,d=eval(input('money and price'))\n",
    "if a/b > c/d:\n",
    "    print('package 1 has the better price')\n",
    "else:\n",
    "    print('package 2 has the better price')"
   ]
  },
  {
   "cell_type": "code",
   "execution_count": 16,
   "metadata": {},
   "outputs": [
    {
     "name": "stdout",
     "output_type": "stream",
     "text": [
      "month2\n",
      "year2000\n",
      "2000 年 2 月有29天\n"
     ]
    }
   ],
   "source": [
    "month=eval(input('month'))\n",
    "year=eval(input('year'))\n",
    "if month==1 or month==3 or month==5 or month==7 or month==8 or month ==10 or month==12:\n",
    "    print(year,'年',month,'月有31天')\n",
    "elif month==2:\n",
    "    print(year,'年',month,'月有29天')\n",
    "else:\n",
    "    print(year,'年',month,'月有30天')"
   ]
  },
  {
   "cell_type": "code",
   "execution_count": 17,
   "metadata": {},
   "outputs": [
    {
     "name": "stdout",
     "output_type": "stream",
     "text": [
      "正\n",
      "输入正反面[0/1]1\n",
      "flash\n"
     ]
    }
   ],
   "source": [
    "x = random.randint(0,1)\n",
    "if x==0:\n",
    "    print('正')\n",
    "else:\n",
    "    print('反')\n",
    "y = eval(input('输入正反面[0/1]'))\n",
    "if y==x:\n",
    "    print('ture')\n",
    "else:\n",
    "    print('flash')\n"
   ]
  },
  {
   "cell_type": "code",
   "execution_count": 18,
   "metadata": {},
   "outputs": [
    {
     "name": "stdout",
     "output_type": "stream",
     "text": [
      "剪刀石头布[0/1/2]2\n",
      "computer 2 you 2 draw\n"
     ]
    }
   ],
   "source": [
    "d=random.randint(0,2)\n",
    "r=eval(input('剪刀石头布[0/1/2]'))\n",
    "if d==0 and r==0:\n",
    "    print('computer',d,'you',r,'draw')\n",
    "elif d==0 and r==1:\n",
    "    print('computer',d,'you',r,'youwin')\n",
    "elif d==0 and r==2:\n",
    "    print('computer',d,'you',r,'youlost')\n",
    "elif d==1 and r==0:\n",
    "    print('computer',d,'you',r,'youlost')\n",
    "elif d==1 and r==1:\n",
    "    print('computer',d,'you',r,'draw')\n",
    "elif d==1 and r==2:\n",
    "    print('computer',d,'you',r,'youwin')\n",
    "elif d==2 and r==0:\n",
    "    print('computer',d,'you',r,'youwin')\n",
    "elif d==2 and r==1:\n",
    "    print('computer',d,'you',r,'youlost')\n",
    "elif d==2 and r==2:\n",
    "    print('computer',d,'you',r,'draw')"
   ]
  },
  {
   "cell_type": "code",
   "execution_count": 19,
   "metadata": {},
   "outputs": [
    {
     "name": "stdout",
     "output_type": "stream",
     "text": [
      "(e.g.,2008):2013\n",
      "month:,(1-12:)1\n",
      "day of the month:,(1-31:)25\n",
      "Day of the week is Friday\n"
     ]
    }
   ],
   "source": [
    "year = eval(input('(e.g.,2008):'))\n",
    "m = eval(input('month:,(1-12:)'))\n",
    "q = eval(input('day of the month:,(1-31:)'))\n",
    "if m == 1:\n",
    "    m=13\n",
    "    year = year-1\n",
    "if m == 2:\n",
    "    m=14\n",
    "    year = year-1\n",
    "h = (q+int(26*(m+1)/10)+int(year%100)+int(year%100/4)+int(year/100/4)+int(5*year/100))%7\n",
    "if h==0:\n",
    "    print('Day of the week is Saturday')\n",
    "elif h==1:\n",
    "    print('Day of the week is Sunday')\n",
    "elif h==2:\n",
    "    print('Day of the week is Monday')\n",
    "elif h==3:\n",
    "     print('Day of the week is Tuesday')\n",
    "elif h==4:\n",
    "     print('Day of the week is Wednesday')\n",
    "elif h==5:\n",
    "     print('Day of the week is Thursday')\n",
    "else:\n",
    "    print('Day of the week is Friday')"
   ]
  },
  {
   "cell_type": "code",
   "execution_count": 20,
   "metadata": {},
   "outputs": [
    {
     "name": "stdout",
     "output_type": "stream",
     "text": [
      "The card you picked is the 5 of Diamond\n"
     ]
    }
   ],
   "source": [
    "x = random.randint(1,13)\n",
    "y = random.randint(1,4)\n",
    "if x == 1 and y == 1:\n",
    "    print('The card you picked is the Ace of Heart')\n",
    "elif x == 2 and y == 1:    \n",
    "    print('The card you picked is the 2 of Heart')\n",
    "elif x == 3 and y == 1:  \n",
    "    print('The card you picked is the 3 of Heart')\n",
    "elif x == 4 and y == 1:\n",
    "    print('The card you picked is the 4 of Heart')\n",
    "elif x == 5 and y == 1:\n",
    "    print('The card you picked is the 5 of Heart')\n",
    "elif x == 6 and y == 1:\n",
    "    print('The card you picked is the 6 of Heart')\n",
    "elif x == 7 and y == 1:\n",
    "    print('The card you picked is the 7 of Heart')\n",
    "elif x == 8 and y == 1:\n",
    "    print('The card you picked is the 8 of Heart')\n",
    "elif x == 9 and y == 1:\n",
    "    print('The card you picked is the 9 of Heart')\n",
    "elif x == 10 and y == 1:\n",
    "    print('The card you picked is the 10 of Heart')\n",
    "elif x == 11 and y == 1:\n",
    "    print('The card you picked is the Jack of Heart')\n",
    "elif x == 12 and y == 1:\n",
    "    print('The card you picked is the Queen of Heart')\n",
    "elif x == 13 and y == 1:\n",
    "    print('The card you picked is the King of Heart')\n",
    "elif x == 1 and y == 2:    \n",
    "    print('The card you picked is the Ace of Spade')\n",
    "elif x == 2 and y == 2:\n",
    "    print('The card you picked is the 2 of Spade')\n",
    "elif x == 3 and y == 2:\n",
    "    print('The card you picked is the 3 of Spade')\n",
    "elif x == 4 and y == 2:\n",
    "    print('The card you picked is the 4 of Spade')\n",
    "elif x == 5 and y == 2:\n",
    "    print('The card you picked is the 5 of Spade')\n",
    "elif x == 6 and y == 2:\n",
    "    print('The card you picked is the 6 of Spade')\n",
    "elif x == 7 and y == 2:\n",
    "    print('The card you picked is the 7 of Spade')\n",
    "elif x == 8 and y == 2:\n",
    "    print('The card you picked is the 8 of Spade')\n",
    "elif x == 9 and y == 2:\n",
    "    print('The card you picked is the 9 of Spade')\n",
    "elif x == 10 and y == 2:\n",
    "    print('The card you picked is the 10 of Spade')\n",
    "elif x == 11 and y == 2:\n",
    "    print('The card you picked is the Jack of Spade')\n",
    "elif x == 12 and y == 2:\n",
    "    print('The card you picked is the Queen of Spade')\n",
    "elif x == 13 and y == 2:\n",
    "    print('The card you picked is the King of Spade')\n",
    "elif x == 1 and y == 3:\n",
    "    print('The card you picked is the Ace of Diamond')\n",
    "elif x == 2 and y == 3:    \n",
    "    print('The card you picked is the 2 of Diamond')\n",
    "elif x == 3 and y == 3:  \n",
    "    print('The card you picked is the 3 of Diamond')\n",
    "elif x == 4 and y == 3:\n",
    "    print('The card you picked is the 4 of Diamond')\n",
    "elif x == 5 and y == 3:\n",
    "    print('The card you picked is the 5 of Diamond')\n",
    "elif x == 6 and y == 3:\n",
    "    print('The card you picked is the 6 of Diamond')\n",
    "elif x == 7 and y == 3:\n",
    "    print('The card you picked is the 7 of Diamond')\n",
    "elif x == 8 and y == 3:\n",
    "    print('The card you picked is the 8 of Diamond')\n",
    "elif x == 9 and y == 3:\n",
    "    print('The card you picked is the 9 of Diamond')\n",
    "elif x == 10 and y == 3:\n",
    "    print('The card you picked is the 10 of Diamond')\n",
    "elif x == 11 and y == 3:\n",
    "    print('The card you picked is the Jack of Diamond')\n",
    "elif x == 12 and y == 3:\n",
    "    print('The card you picked is the Queen of Diamond')\n",
    "elif x == 13 and y == 3:\n",
    "    print('The card you picked is the King of Diamond')\n",
    "elif x == 1 and y == 4:\n",
    "    print('The card you picked is the Ace of Club')\n",
    "elif x == 2 and y == 4:    \n",
    "    print('The card you picked is the 2 of Club')\n",
    "elif x == 3 and y == 4:  \n",
    "    print('The card you picked is the 3 of Club')\n",
    "elif x == 4 and y == 4:\n",
    "    print('The card you picked is the 4 of Club')\n",
    "elif x == 5 and y == 4:\n",
    "    print('The card you picked is the 5 of Club')\n",
    "elif x == 6 and y == 4:\n",
    "    print('The card you picked is the 6 of Club')\n",
    "elif x == 7 and y == 4:\n",
    "    print('The card you picked is the 7 of Club')\n",
    "elif x == 8 and y == 4:\n",
    "    print('The card you picked is the 8 of Club')\n",
    "elif x == 9 and y == 4:\n",
    "    print('The card you picked is the 9 of Club')\n",
    "elif x == 10 and y == 4:\n",
    "    print('The card you picked is the 10 of Club')\n",
    "elif x == 11 and y == 4:\n",
    "    print('The card you picked is the Jack of Club')\n",
    "elif x == 12 and y == 4:\n",
    "    print('The card you picked is the Queen of Club')\n",
    "elif x == 13 and y == 4:\n",
    "    print('The card you picked is the King of Club')"
   ]
  },
  {
   "cell_type": "code",
   "execution_count": 23,
   "metadata": {},
   "outputs": [
    {
     "name": "stdout",
     "output_type": "stream",
     "text": [
      "输入一个三位数123\n",
      "isn\"t\n"
     ]
    }
   ],
   "source": [
    "x = eval(input('输入一个三位数'))\n",
    "if x%10==x//100:\n",
    "    print('is ')\n",
    "else:\n",
    "    print('isn\"t')"
   ]
  },
  {
   "cell_type": "code",
   "execution_count": 24,
   "metadata": {},
   "outputs": [
    {
     "name": "stdout",
     "output_type": "stream",
     "text": [
      "三角形三个边长1,1,1\n",
      "3\n"
     ]
    }
   ],
   "source": [
    "a,b,c=eval(input('三角形三个边长'))\n",
    "if a+b>c or a+c>b or b+c>a:\n",
    "    print(a+b+c)\n",
    "else:\n",
    "    print('非法')"
   ]
  }
 ],
 "metadata": {
  "kernelspec": {
   "display_name": "Python 3",
   "language": "python",
   "name": "python3"
  },
  "language_info": {
   "codemirror_mode": {
    "name": "ipython",
    "version": 3
   },
   "file_extension": ".py",
   "mimetype": "text/x-python",
   "name": "python",
   "nbconvert_exporter": "python",
   "pygments_lexer": "ipython3",
   "version": "3.7.3"
  }
 },
 "nbformat": 4,
 "nbformat_minor": 2
}
