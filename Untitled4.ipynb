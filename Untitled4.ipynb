{
 "cells": [
  {
   "cell_type": "markdown",
   "metadata": {},
   "source": [
    "1题"
   ]
  },
  {
   "cell_type": "code",
   "execution_count": 5,
   "metadata": {},
   "outputs": [],
   "source": [
    "def g(n):\n",
    "    count = 0\n",
    "    for i in range(1,n):\n",
    "        a = i*(3*i - 1)/2\n",
    "        print(a,end='      ')\n",
    "        count += 1\n",
    "        if count % 10 ==0:\n",
    "            print()\n",
    "            "
   ]
  },
  {
   "cell_type": "code",
   "execution_count": 6,
   "metadata": {},
   "outputs": [
    {
     "name": "stdout",
     "output_type": "stream",
     "text": [
      "1.0      5.0      12.0      22.0      35.0      51.0      70.0      92.0      117.0      145.0      \n",
      "176.0      210.0      247.0      287.0      330.0      376.0      425.0      477.0      532.0      590.0      \n",
      "651.0      715.0      782.0      852.0      925.0      1001.0      1080.0      1162.0      1247.0      1335.0      \n",
      "1426.0      1520.0      1617.0      1717.0      1820.0      1926.0      2035.0      2147.0      2262.0      2380.0      \n",
      "2501.0      2625.0      2752.0      2882.0      3015.0      3151.0      3290.0      3432.0      3577.0      3725.0      \n",
      "3876.0      4030.0      4187.0      4347.0      4510.0      4676.0      4845.0      5017.0      5192.0      5370.0      \n",
      "5551.0      5735.0      5922.0      6112.0      6305.0      6501.0      6700.0      6902.0      7107.0      7315.0      \n",
      "7526.0      7740.0      7957.0      8177.0      8400.0      8626.0      8855.0      9087.0      9322.0      9560.0      \n",
      "9801.0      10045.0      10292.0      10542.0      10795.0      11051.0      11310.0      11572.0      11837.0      12105.0      \n",
      "12376.0      12650.0      12927.0      13207.0      13490.0      13776.0      14065.0      14357.0      14652.0      "
     ]
    }
   ],
   "source": [
    "g(100)"
   ]
  },
  {
   "cell_type": "markdown",
   "metadata": {},
   "source": [
    "3题"
   ]
  },
  {
   "cell_type": "markdown",
   "metadata": {},
   "source": [
    "def d(n1,n2,n3):\n",
    "    list = [n1,n2,n3]\n",
    "    list.sort()\n",
    "    print(list)"
   ]
  },
  {
   "cell_type": "code",
   "execution_count": 8,
   "metadata": {},
   "outputs": [
    {
     "name": "stdout",
     "output_type": "stream",
     "text": [
      "[2.4, 3, 5]\n"
     ]
    }
   ],
   "source": [
    "d(3,2.4,5)"
   ]
  },
  {
   "cell_type": "markdown",
   "metadata": {},
   "source": [
    "5题"
   ]
  },
  {
   "cell_type": "code",
   "execution_count": 9,
   "metadata": {},
   "outputs": [],
   "source": [
    "def p(ch1,ch2,n):\n",
    "    count = 0\n",
    "    for i in range(49,91):\n",
    "        if 48<= i <=58:\n",
    "            print(chr(i),end='  ')\n",
    "        elif 59<= i <=69:\n",
    "            print(chr(i),end='  ')\n",
    "        elif 70<= i <=80:\n",
    "            print(chr(i),end='  ')\n",
    "        elif 81<= i <=91:\n",
    "            print(chr(i),end='  ')\n",
    "        count += 1\n",
    "        if count % 10==0:\n",
    "            print()"
   ]
  },
  {
   "cell_type": "code",
   "execution_count": 10,
   "metadata": {},
   "outputs": [
    {
     "name": "stdout",
     "output_type": "stream",
     "text": [
      "1  2  3  4  5  6  7  8  9  :  \n",
      ";  <  =  >  ?  @  A  B  C  D  \n",
      "E  F  G  H  I  J  K  L  M  N  \n",
      "O  P  Q  R  S  T  U  V  W  X  \n",
      "Y  Z  "
     ]
    }
   ],
   "source": [
    "p(49,91,10)"
   ]
  },
  {
   "cell_type": "markdown",
   "metadata": {},
   "source": [
    "6题"
   ]
  },
  {
   "cell_type": "code",
   "execution_count": 1,
   "metadata": {},
   "outputs": [],
   "source": [
    "def n(year):\n",
    "    for i in  range(2010,2021):\n",
    "        if i % 4==0 and i %100!=0 or i %400==0:\n",
    "            print(year,'有366天')\n",
    "        else:\n",
    "            print(year,'有355天')"
   ]
  },
  {
   "cell_type": "code",
   "execution_count": 2,
   "metadata": {},
   "outputs": [
    {
     "name": "stdout",
     "output_type": "stream",
     "text": [
      "2010 有355天\n",
      "2010 有355天\n",
      "2010 有366天\n",
      "2010 有355天\n",
      "2010 有355天\n",
      "2010 有355天\n",
      "2010 有366天\n",
      "2010 有355天\n",
      "2010 有355天\n",
      "2010 有355天\n",
      "2010 有366天\n"
     ]
    }
   ],
   "source": [
    "n(2010)"
   ]
  },
  {
   "cell_type": "code",
   "execution_count": null,
   "metadata": {},
   "outputs": [],
   "source": []
  }
 ],
 "metadata": {
  "kernelspec": {
   "display_name": "Python 3",
   "language": "python",
   "name": "python3"
  },
  "language_info": {
   "codemirror_mode": {
    "name": "ipython",
    "version": 3
   },
   "file_extension": ".py",
   "mimetype": "text/x-python",
   "name": "python",
   "nbconvert_exporter": "python",
   "pygments_lexer": "ipython3",
   "version": "3.7.3"
  }
 },
 "nbformat": 4,
 "nbformat_minor": 2
}
