{
 "cells": [
  {
   "cell_type": "code",
   "execution_count": 2,
   "metadata": {},
   "outputs": [],
   "source": [
    "class rectangle():\n",
    "    def __init__(self):\n",
    "        self.width = 1\n",
    "        self.height = 2\n",
    "    def getarea(self):\n",
    "        return self.width * self.height\n",
    "    def getperimeter(self):\n",
    "        return self.width*2 + self.height*2"
   ]
  },
  {
   "cell_type": "code",
   "execution_count": 3,
   "metadata": {},
   "outputs": [],
   "source": [
    "z = rectangle()"
   ]
  },
  {
   "cell_type": "code",
   "execution_count": 4,
   "metadata": {},
   "outputs": [
    {
     "data": {
      "text/plain": [
       "2"
      ]
     },
     "execution_count": 4,
     "metadata": {},
     "output_type": "execute_result"
    }
   ],
   "source": [
    "z.getarea()"
   ]
  },
  {
   "cell_type": "code",
   "execution_count": 6,
   "metadata": {},
   "outputs": [
    {
     "data": {
      "text/plain": [
       "6"
      ]
     },
     "execution_count": 6,
     "metadata": {},
     "output_type": "execute_result"
    }
   ],
   "source": [
    "z.getperimeter()"
   ]
  },
  {
   "cell_type": "code",
   "execution_count": 7,
   "metadata": {},
   "outputs": [],
   "source": [
    "class account():\n",
    "    def __init__(self):\n",
    "        self.__id = 1122\n",
    "        self.__balance = 20000\n",
    "        self.__annual = 4.5\n",
    "        print('用户',self.__id)\n",
    "        print('金额',self.__balance)\n",
    "    def getmonthlyrate(self):\n",
    "        print('月利率',self.__annual/100 /12)\n",
    "    def getmonthly(self):\n",
    "        print('月利息',self.__balance * (self.__annual/100 /12))\n",
    "    def withdraw(self):\n",
    "        self.quzou = eval(input('取走多少钱'))\n",
    "        print(self.__balance-self.quzou)\n",
    "    def deposit(self):\n",
    "        self.cunru = eval(input('存入多少钱'))\n",
    "        print(self.__balance-self.quzou+self.cunru)\n",
    "    def start(self):\n",
    "        self.getmonthlyrate()\n",
    "        \n",
    "        self.getmonthly()\n",
    "        self.withdraw()\n",
    "        self.deposit()"
   ]
  },
  {
   "cell_type": "code",
   "execution_count": 8,
   "metadata": {},
   "outputs": [
    {
     "name": "stdout",
     "output_type": "stream",
     "text": [
      "用户 1122\n",
      "金额 20000\n"
     ]
    }
   ],
   "source": [
    "z = account()\n"
   ]
  },
  {
   "cell_type": "code",
   "execution_count": 9,
   "metadata": {},
   "outputs": [
    {
     "name": "stdout",
     "output_type": "stream",
     "text": [
      "月利率 0.00375\n",
      "月利息 75.0\n",
      "取走多少钱2500\n",
      "17500\n",
      "存入多少钱3000\n",
      "20500\n"
     ]
    }
   ],
   "source": [
    "z.start()"
   ]
  },
  {
   "cell_type": "code",
   "execution_count": 10,
   "metadata": {},
   "outputs": [],
   "source": [
    "class fan():\n",
    "    def __init__(self):\n",
    "        self.slow = 1\n",
    "        self.medium = 2\n",
    "        self.fast = 3\n",
    "    def fan1(self):\n",
    "        self.speed = input('风扇速度')\n",
    "        self.on = input('是否打开')\n",
    "        self.radius = eval(input('风扇半径：'))\n",
    "        self.color = input('颜色：')\n",
    "        return self.speed,self.on,self.radius,self.color \n",
    "    def fan2(self):\n",
    "        self.speed = input('风扇速度：')\n",
    "        self.on = input('是否打开：')\n",
    "        self.radius = eval(input('风扇半径：'))\n",
    "        self.color = input('颜色：')\n",
    "        return self.speed,self.on,self.radius,self.color "
   ]
  },
  {
   "cell_type": "code",
   "execution_count": 11,
   "metadata": {},
   "outputs": [],
   "source": [
    "z = fan()"
   ]
  },
  {
   "cell_type": "code",
   "execution_count": 12,
   "metadata": {},
   "outputs": [
    {
     "name": "stdout",
     "output_type": "stream",
     "text": [
      "风扇速度z\n",
      "是否打开on\n",
      "风扇半径：10\n",
      "颜色：yellow\n"
     ]
    },
    {
     "data": {
      "text/plain": [
       "('z', 'on', 10, 'yellow')"
      ]
     },
     "execution_count": 12,
     "metadata": {},
     "output_type": "execute_result"
    }
   ],
   "source": [
    "z.fan1()"
   ]
  },
  {
   "cell_type": "code",
   "execution_count": 13,
   "metadata": {},
   "outputs": [
    {
     "name": "stdout",
     "output_type": "stream",
     "text": [
      "风扇速度：zhong\n",
      "是否打开：flase\n",
      "风扇半径：5\n",
      "颜色：blue\n"
     ]
    },
    {
     "data": {
      "text/plain": [
       "('zhong', 'flase', 5, 'blue')"
      ]
     },
     "execution_count": 13,
     "metadata": {},
     "output_type": "execute_result"
    }
   ],
   "source": [
    "z.fan2()"
   ]
  },
  {
   "cell_type": "code",
   "execution_count": 14,
   "metadata": {},
   "outputs": [],
   "source": [
    "import math\n",
    "class N():\n",
    "    def __init__(self):\n",
    "        self.n = eval(input('边数'))\n",
    "        self.side = eval(input('边长'))\n",
    "    def getPerimeter(self):\n",
    "        c = self.n * self.side\n",
    "        return c\n",
    "    def getArea(self):\n",
    "        s = (self.n * (self.side ** 2))/ 4 * math.tan(math.pi/self.n)\n",
    "        return s\n",
    "        "
   ]
  },
  {
   "cell_type": "code",
   "execution_count": 16,
   "metadata": {},
   "outputs": [
    {
     "name": "stdout",
     "output_type": "stream",
     "text": [
      "边数3\n",
      "边长1\n"
     ]
    }
   ],
   "source": [
    "z = N()"
   ]
  },
  {
   "cell_type": "code",
   "execution_count": 17,
   "metadata": {},
   "outputs": [
    {
     "data": {
      "text/plain": [
       "3"
      ]
     },
     "execution_count": 17,
     "metadata": {},
     "output_type": "execute_result"
    }
   ],
   "source": [
    "z.getPerimeter()"
   ]
  },
  {
   "cell_type": "code",
   "execution_count": 18,
   "metadata": {},
   "outputs": [
    {
     "data": {
      "text/plain": [
       "1.2990381056766576"
      ]
     },
     "execution_count": 18,
     "metadata": {},
     "output_type": "execute_result"
    }
   ],
   "source": [
    "z.getArea()"
   ]
  },
  {
   "cell_type": "code",
   "execution_count": 19,
   "metadata": {},
   "outputs": [],
   "source": [
    "class Linear():\n",
    "    def __init__(self):\n",
    "        self.a = eval(input('输入一个数'))\n",
    "        self.b = eval(input('输入一个数'))\n",
    "        self.c = eval(input('输入一个数'))\n",
    "        self.d = eval(input('输入一个数'))\n",
    "        self.e = eval(input('输入一个数'))\n",
    "        self.f = eval(input('输入一个数'))\n",
    "    def isSolvable(self):\n",
    "        if self.a * self.d - self.b * self.c == 0:\n",
    "            print('这个方程式无解')\n",
    "        else:\n",
    "            print('true')\n",
    "    def X(self):\n",
    "        x = (self.e * self.d - self.b * self.f) / (self.a * self.d - self.b * self.c)\n",
    "        print(x)\n",
    "    def Y(self):\n",
    "        y = (self.a * self.f - self.e * self.c) / (self.a * self.d - self.b * self.c)\n",
    "        print(y)  "
   ]
  },
  {
   "cell_type": "code",
   "execution_count": 20,
   "metadata": {},
   "outputs": [
    {
     "name": "stdout",
     "output_type": "stream",
     "text": [
      "输入一个数3\n",
      "输入一个数4\n",
      "输入一个数5\n",
      "输入一个数6\n",
      "输入一个数1\n",
      "输入一个数3\n"
     ]
    }
   ],
   "source": [
    "z = Linear()"
   ]
  },
  {
   "cell_type": "code",
   "execution_count": 21,
   "metadata": {},
   "outputs": [
    {
     "name": "stdout",
     "output_type": "stream",
     "text": [
      "true\n"
     ]
    }
   ],
   "source": [
    "z.isSolvable()"
   ]
  },
  {
   "cell_type": "code",
   "execution_count": 22,
   "metadata": {},
   "outputs": [
    {
     "name": "stdout",
     "output_type": "stream",
     "text": [
      "3.0\n"
     ]
    }
   ],
   "source": [
    "z.X()"
   ]
  },
  {
   "cell_type": "code",
   "execution_count": 23,
   "metadata": {},
   "outputs": [
    {
     "name": "stdout",
     "output_type": "stream",
     "text": [
      "-2.0\n"
     ]
    }
   ],
   "source": [
    "z.Y()"
   ]
  },
  {
   "cell_type": "code",
   "execution_count": null,
   "metadata": {},
   "outputs": [],
   "source": []
  }
 ],
 "metadata": {
  "kernelspec": {
   "display_name": "Python 3",
   "language": "python",
   "name": "python3"
  },
  "language_info": {
   "codemirror_mode": {
    "name": "ipython",
    "version": 3
   },
   "file_extension": ".py",
   "mimetype": "text/x-python",
   "name": "python",
   "nbconvert_exporter": "python",
   "pygments_lexer": "ipython3",
   "version": "3.7.3"
  }
 },
 "nbformat": 4,
 "nbformat_minor": 2
}
