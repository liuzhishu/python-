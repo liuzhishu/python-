{
 "cells": [
  {
   "cell_type": "markdown",
   "metadata": {},
   "source": [
    "1题"
   ]
  },
  {
   "cell_type": "code",
   "execution_count": 4,
   "metadata": {},
   "outputs": [
    {
     "name": "stdout",
     "output_type": "stream",
     "text": [
      "成绩>>40,55,70,58\n",
      "40 级别为C\n",
      "55 级别为B\n",
      "70 级别为A\n",
      "58 级别为B\n"
     ]
    }
   ],
   "source": [
    "a=eval(input('成绩>>'))\n",
    "b=max(a)\n",
    "for i in a:\n",
    "    if i>=b-10:\n",
    "        print(i,'级别为A')\n",
    "    elif i>=b-20:\n",
    "        print(i,'级别为B')\n",
    "    elif i>=b-30:\n",
    "        print(i,'级别为C')            \n",
    "    elif i>=b-40:\n",
    "        print(i,'级别为D')\n",
    "    else:\n",
    "        print(i,'成绩为F')"
   ]
  },
  {
   "cell_type": "markdown",
   "metadata": {},
   "source": [
    "2题"
   ]
  },
  {
   "cell_type": "code",
   "execution_count": 3,
   "metadata": {},
   "outputs": [
    {
     "name": "stdout",
     "output_type": "stream",
     "text": [
      "输入一个整数列1,15,515,516,788,1,1\n"
     ]
    },
    {
     "data": {
      "text/plain": [
       "(1, 1, 788, 516, 515, 15, 1)"
      ]
     },
     "execution_count": 3,
     "metadata": {},
     "output_type": "execute_result"
    }
   ],
   "source": [
    "a=eval(input('输入一个整数列'))\n",
    "a[::-1]"
   ]
  },
  {
   "cell_type": "markdown",
   "metadata": {},
   "source": [
    "3题"
   ]
  },
  {
   "cell_type": "code",
   "execution_count": 5,
   "metadata": {},
   "outputs": [
    {
     "name": "stdout",
     "output_type": "stream",
     "text": [
      "输入数字15,666,12,41\n",
      "15 出现 1 次\n",
      "12 出现 1 次\n",
      "41 出现 1 次\n"
     ]
    }
   ],
   "source": [
    "a = eval(input('输入数字'))\n",
    "for i in a:\n",
    "    if 1< i <100:\n",
    "        b = a.count(i)\n",
    "        print(i,'出现',b,'次')"
   ]
  },
  {
   "cell_type": "markdown",
   "metadata": {},
   "source": [
    "4题"
   ]
  },
  {
   "cell_type": "code",
   "execution_count": 6,
   "metadata": {},
   "outputs": [
    {
     "name": "stdout",
     "output_type": "stream",
     "text": [
      "输入数字51,1,5,6,14,56\n",
      "大于平均数的有 2\n",
      "小于平均数的有 4\n"
     ]
    }
   ],
   "source": [
    "\n",
    "a = eval(input('输入数字'))\n",
    "b = sum(a)/len(a)\n",
    "n1 = 0\n",
    "n2 = 0\n",
    "for i in a:\n",
    "    if i > b:\n",
    "        n1 += 1\n",
    "    if i < b:\n",
    "        n2 += 1   \n",
    "print('大于平均数的有',n1)\n",
    "print('小于平均数的有',n2)"
   ]
  },
  {
   "cell_type": "markdown",
   "metadata": {},
   "source": [
    "6题"
   ]
  },
  {
   "cell_type": "code",
   "execution_count": 9,
   "metadata": {},
   "outputs": [],
   "source": [
    "def index():\n",
    "    a = input('输入一个数字列表')\n",
    "    if len(a)>1:\n",
    "        b = min(a)\n",
    "        c = a.index(b)\n",
    "        print(c)"
   ]
  },
  {
   "cell_type": "code",
   "execution_count": 10,
   "metadata": {
    "scrolled": true
   },
   "outputs": [
    {
     "name": "stdout",
     "output_type": "stream",
     "text": [
      "输入一个数字列表1,5,5,6,6\n",
      "1\n"
     ]
    }
   ],
   "source": [
    "index()"
   ]
  },
  {
   "cell_type": "markdown",
   "metadata": {},
   "source": [
    "7题"
   ]
  },
  {
   "cell_type": "code",
   "execution_count": 13,
   "metadata": {},
   "outputs": [],
   "source": [
    "import random\n",
    "def a():\n",
    "    b = [1,2,3,4,6,6]  \n",
    "    random.shuffle(b)\n",
    "    print(b)"
   ]
  },
  {
   "cell_type": "code",
   "execution_count": 14,
   "metadata": {},
   "outputs": [
    {
     "name": "stdout",
     "output_type": "stream",
     "text": [
      "[4, 6, 1, 6, 2, 3]\n"
     ]
    }
   ],
   "source": [
    "a()"
   ]
  },
  {
   "cell_type": "code",
   "execution_count": null,
   "metadata": {},
   "outputs": [],
   "source": []
  },
  {
   "cell_type": "code",
   "execution_count": null,
   "metadata": {},
   "outputs": [],
   "source": []
  },
  {
   "cell_type": "code",
   "execution_count": null,
   "metadata": {},
   "outputs": [],
   "source": []
  },
  {
   "cell_type": "code",
   "execution_count": null,
   "metadata": {},
   "outputs": [],
   "source": []
  }
 ],
 "metadata": {
  "kernelspec": {
   "display_name": "Python 3",
   "language": "python",
   "name": "python3"
  },
  "language_info": {
   "codemirror_mode": {
    "name": "ipython",
    "version": 3
   },
   "file_extension": ".py",
   "mimetype": "text/x-python",
   "name": "python",
   "nbconvert_exporter": "python",
   "pygments_lexer": "ipython3",
   "version": "3.7.3"
  }
 },
 "nbformat": 4,
 "nbformat_minor": 2
}
