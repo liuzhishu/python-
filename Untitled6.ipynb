{
 "cells": [
  {
   "cell_type": "markdown",
   "metadata": {},
   "source": [
    "1题"
   ]
  },
  {
   "cell_type": "code",
   "execution_count": 1,
   "metadata": {},
   "outputs": [],
   "source": [
    "def SSN(a):\n",
    "    i = '888-88-8888'\n",
    "    if a==i:\n",
    "        print('Valid SSN')\n",
    "    else:\n",
    "        print('Invalid SSN')"
   ]
  },
  {
   "cell_type": "code",
   "execution_count": 2,
   "metadata": {},
   "outputs": [
    {
     "name": "stdout",
     "output_type": "stream",
     "text": [
      "Invalid SSN\n"
     ]
    }
   ],
   "source": [
    "SSN('888-88-8888')"
   ]
  },
  {
   "cell_type": "markdown",
   "metadata": {},
   "source": [
    "2题"
   ]
  },
  {
   "cell_type": "code",
   "execution_count": 3,
   "metadata": {},
   "outputs": [],
   "source": [
    "def z(a,b):\n",
    "    if b.find(a)>=0:\n",
    "        print('a是b的子字符串')\n",
    "    else:\n",
    "        print('a不是b的子字符串')"
   ]
  },
  {
   "cell_type": "code",
   "execution_count": 4,
   "metadata": {},
   "outputs": [
    {
     "name": "stdout",
     "output_type": "stream",
     "text": [
      "a是b的子字符串\n"
     ]
    }
   ],
   "source": [
    "z('a','ab')"
   ]
  },
  {
   "cell_type": "markdown",
   "metadata": {},
   "source": [
    "3题"
   ]
  },
  {
   "cell_type": "markdown",
   "metadata": {},
   "source": [
    "def mima(a):\n",
    "    n1 = 0\n",
    "    n2=0\n",
    "    n3=0\n",
    "    if len(a) <=8:\n",
    "        print('密码必须大于8位')\n",
    "    for i in a:\n",
    "        if i.isupper():\n",
    "            n1 += 1\n",
    "        if i.islower():\n",
    "            n2 += 1\n",
    "        if i.isdigit():\n",
    "            n3 += 1\n",
    "    if n1 == 0 and n2==0:\n",
    "        print('密码必须有两个字母')\n",
    "    if n3<2:\n",
    "        print('密码必须有两个数字')"
   ]
  },
  {
   "cell_type": "code",
   "execution_count": 7,
   "metadata": {},
   "outputs": [
    {
     "name": "stdout",
     "output_type": "stream",
     "text": [
      "密码必须有两个字母\n"
     ]
    }
   ],
   "source": [
    "mima('111111111')"
   ]
  },
  {
   "cell_type": "code",
   "execution_count": 8,
   "metadata": {},
   "outputs": [
    {
     "name": "stdout",
     "output_type": "stream",
     "text": [
      "密码必须有两个数字\n"
     ]
    }
   ],
   "source": [
    "mima('aaaaaaaaaaaa')"
   ]
  },
  {
   "cell_type": "code",
   "execution_count": null,
   "metadata": {},
   "outputs": [],
   "source": [
    "4题"
   ]
  },
  {
   "cell_type": "code",
   "execution_count": 9,
   "metadata": {},
   "outputs": [],
   "source": [
    "def c(a):\n",
    "    n1=0\n",
    "    n2=0\n",
    "    for i in a:\n",
    "        if i.isupper():\n",
    "            n1+=1\n",
    "        if i.islower():\n",
    "            n2+=1\n",
    "    print(n1+n2)"
   ]
  },
  {
   "cell_type": "code",
   "execution_count": 10,
   "metadata": {},
   "outputs": [
    {
     "name": "stdout",
     "output_type": "stream",
     "text": [
      "20\n"
     ]
    }
   ],
   "source": [
    "c('dqfqfqgqgggGGGGGGGGG')"
   ]
  },
  {
   "cell_type": "markdown",
   "metadata": {},
   "source": [
    "6题"
   ]
  },
  {
   "cell_type": "code",
   "execution_count": 11,
   "metadata": {},
   "outputs": [],
   "source": [
    "def reverse1(a):\n",
    "    a.reverse()\n",
    "    print(a)"
   ]
  },
  {
   "cell_type": "code",
   "execution_count": 12,
   "metadata": {},
   "outputs": [
    {
     "name": "stdout",
     "output_type": "stream",
     "text": [
      "['Q', 'G', 'F']\n"
     ]
    }
   ],
   "source": [
    "reverse1(['F','G','Q'])"
   ]
  },
  {
   "cell_type": "code",
   "execution_count": null,
   "metadata": {},
   "outputs": [],
   "source": []
  },
  {
   "cell_type": "code",
   "execution_count": null,
   "metadata": {},
   "outputs": [],
   "source": []
  },
  {
   "cell_type": "code",
   "execution_count": null,
   "metadata": {},
   "outputs": [],
   "source": []
  }
 ],
 "metadata": {
  "kernelspec": {
   "display_name": "Python 3",
   "language": "python",
   "name": "python3"
  },
  "language_info": {
   "codemirror_mode": {
    "name": "ipython",
    "version": 3
   },
   "file_extension": ".py",
   "mimetype": "text/x-python",
   "name": "python",
   "nbconvert_exporter": "python",
   "pygments_lexer": "ipython3",
   "version": "3.7.3"
  }
 },
 "nbformat": 4,
 "nbformat_minor": 2
}
