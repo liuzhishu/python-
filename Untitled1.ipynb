{
 "cells": [
  {
   "cell_type": "code",
   "execution_count": 5,
   "metadata": {},
   "outputs": [
    {
     "name": "stdout",
     "output_type": "stream",
     "text": [
      "请输入半径5.5\n",
      "71.92\n"
     ]
    }
   ],
   "source": [
    "import math\n",
    "r = eval(input('请输入半径'))\n",
    "s = 2 * r * math.sin(math.pi / 5)\n",
    "Area = 5 * s * s / (4 * math.tan(math.pi / 5))\n",
    "print(round(Area,2))"
   ]
  },
  {
   "cell_type": "code",
   "execution_count": 3,
   "metadata": {},
   "outputs": [
    {
     "name": "stdout",
     "output_type": "stream",
     "text": [
      "请输入一个点的坐标39.55,-116.25\n",
      "请输入一个点的坐标41.5,87.37\n",
      "10691.79183231593\n"
     ]
    }
   ],
   "source": [
    "import math\n",
    "x1,y1 = eval(input('请输入一个点的坐标'))\n",
    "x2,y2 = eval(input('请输入一个点的坐标'))\n",
    "radius=6371.01\n",
    "d1=math.sin(math.radians(x1))\n",
    "d2=math.sin(math.radians(x2))\n",
    "d3=math.cos(math.radians(x1))\n",
    "d4=math.cos(math.radians(x2) )           \n",
    "d5=math.cos(math.radians(y1-y2))            \n",
    "d=radius*math.acos(d1*d2+d3*d4*d5)\n",
    "print(d)                                                                             "
   ]
  },
  {
   "cell_type": "code",
   "execution_count": 6,
   "metadata": {},
   "outputs": [
    {
     "name": "stdout",
     "output_type": "stream",
     "text": [
      "请输入边长5.5\n",
      "52.044441367816255\n"
     ]
    }
   ],
   "source": [
    "s = eval(input('请输入边长'))\n",
    "area = (5 * s**2) / (4 * math.tan(math.pi / 5))\n",
    "print(area)"
   ]
  },
  {
   "cell_type": "code",
   "execution_count": 7,
   "metadata": {},
   "outputs": [
    {
     "name": "stdout",
     "output_type": "stream",
     "text": [
      "边长数5\n",
      "请输入边长6.5\n",
      "72.69017017488386\n"
     ]
    }
   ],
   "source": [
    "n = eval(input('边长数'))\n",
    "s = eval(input('请输入边长'))\n",
    "area = (n * s**2) / (4 * math.tan(math.pi / n))\n",
    "print(area)"
   ]
  },
  {
   "cell_type": "code",
   "execution_count": 8,
   "metadata": {},
   "outputs": [
    {
     "name": "stdout",
     "output_type": "stream",
     "text": [
      "请输入0到127的数69\n"
     ]
    },
    {
     "data": {
      "text/plain": [
       "'E'"
      ]
     },
     "execution_count": 8,
     "metadata": {},
     "output_type": "execute_result"
    }
   ],
   "source": [
    "x = eval(input('请输入0到127的数'))\n",
    "chr(x)"
   ]
  },
  {
   "cell_type": "code",
   "execution_count": 9,
   "metadata": {},
   "outputs": [
    {
     "name": "stdout",
     "output_type": "stream",
     "text": [
      "姓名smtih\n",
      "一周工作时长10\n",
      "每小时报酬9.5\n",
      "联邦预口税率0.2\n",
      "州预口税率0.09\n",
      "employee name smtih\n",
      "hours worked 10\n",
      "pay rate$ 9.5\n",
      "gross pay$ 95.0\n",
      "federal withholding$ 19.0\n",
      "state $ 8.549999999999999\n",
      "total$ 27.549999999999997\n",
      "net pay$ 67.45\n"
     ]
    }
   ],
   "source": [
    "name = input('姓名')\n",
    "n = eval(input('一周工作时长'))\n",
    "h = eval(input('每小时报酬'))\n",
    "f = eval(input('联邦预口税率'))\n",
    "s = eval(input('州预口税率'))\n",
    "gp = n * h\n",
    "fw = f * gp\n",
    "sw = s * gp\n",
    "td = fw + sw\n",
    "np = gp - td\n",
    "print('employee name',name)\n",
    "print('hours worked',n)\n",
    "print('pay rate$',h)\n",
    "print('gross pay$',gp)\n",
    "print('federal withholding$',fw)\n",
    "print('state $',sw)\n",
    "print('total$',td)\n",
    "print('net pay$',np)"
   ]
  },
  {
   "cell_type": "code",
   "execution_count": null,
   "metadata": {},
   "outputs": [],
   "source": []
  }
 ],
 "metadata": {
  "kernelspec": {
   "display_name": "Python 3",
   "language": "python",
   "name": "python3"
  },
  "language_info": {
   "codemirror_mode": {
    "name": "ipython",
    "version": 3
   },
   "file_extension": ".py",
   "mimetype": "text/x-python",
   "name": "python",
   "nbconvert_exporter": "python",
   "pygments_lexer": "ipython3",
   "version": "3.7.3"
  }
 },
 "nbformat": 4,
 "nbformat_minor": 2
}
